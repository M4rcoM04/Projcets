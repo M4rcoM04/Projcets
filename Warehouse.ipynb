{
  "cells": [
    {
      "cell_type": "markdown",
      "metadata": {
        "id": "view-in-github",
        "colab_type": "text"
      },
      "source": [
        "<a href=\"https://colab.research.google.com/github/M4rcoM04/Projcets/blob/main/Warehouse.ipynb\" target=\"_parent\"><img src=\"https://colab.research.google.com/assets/colab-badge.svg\" alt=\"Open In Colab\"/></a>"
      ]
    },
    {
      "cell_type": "code",
      "execution_count": 6,
      "metadata": {
        "id": "qr3IyCoJ2nit"
      },
      "outputs": [],
      "source": [
        "import sys"
      ]
    },
    {
      "cell_type": "code",
      "execution_count": 7,
      "metadata": {
        "id": "LUwF4RcV3EGS"
      },
      "outputs": [],
      "source": [
        "class Magazyn:\n",
        "\n",
        "    def __init__ (self, lista_produktow):\n",
        "        self.lista_produktow = lista_produktow\n",
        "\n",
        "    def wyswietl_dostepne_produkty(self):\n",
        "        print('Dostępne produkty: ')\n",
        "        for i in self.lista_produktow:\n",
        "            print(i)\n",
        "\n",
        "    def dodaj_produkt(self):\n",
        "        self.nazwa_produktu = input('Podaj nazwę produktu: >>> ')\n",
        "        if self.nazwa_produktu not in self.lista_produktow:\n",
        "            self.lista_produktow.append(self.nazwa_produktu)\n",
        "        print(f'Produkt {self.nazwa_produktu} został dodany do nagazynu.')\n",
        "\n",
        "    def usun_produkt(self):\n",
        "        self.nazwa_produktu = input('Podaj nazwę produktu, który chcesz'\n",
        "                                    ' usunąć: >>> ')\n",
        "        if self.nazwa_produktu in self.lista_produktow:\n",
        "            self.lista_produktow.remove(self.nazwa_produktu)\n",
        "            print(f'Usunięto {self.nazwa_produktu} z magazynu.')\n",
        "        else:\n",
        "            print('Podanego produktu nie ma na magazynie.')"
      ]
    },
    {
      "cell_type": "code",
      "execution_count": 8,
      "metadata": {
        "id": "kFA9CAl53Gsn"
      },
      "outputs": [],
      "source": [
        "magazyn = Magazyn(['mleko', 'woda', 'jajka'])"
      ]
    },
    {
      "cell_type": "code",
      "execution_count": 14,
      "metadata": {
        "colab": {
          "base_uri": "https://localhost:8080/",
          "height": 973
        },
        "id": "QyUbWv9p3260",
        "outputId": "1505c745-dcbb-42e6-dfa7-f5a99560d058"
      },
      "outputs": [
        {
          "output_type": "stream",
          "name": "stdout",
          "text": [
            "Wprowadź 1, aby wyświetlić stan magazynu.\n",
            "Wprowadź 2, aby dodać produkt.\n",
            "Wprowadź 3, aby usunąć produkt.\n",
            "Wprowadź 4, aby zakończyć.\n",
            ">>> 1\n",
            "Dostępne produkty: \n",
            "mleko\n",
            "woda\n",
            "jajka\n",
            "Wprowadź 1, aby wyświetlić stan magazynu.\n",
            "Wprowadź 2, aby dodać produkt.\n",
            "Wprowadź 3, aby usunąć produkt.\n",
            "Wprowadź 4, aby zakończyć.\n",
            ">>> 2\n",
            "Podaj nazwę produktu: >>> mąka\n",
            "Produkt mąka został dodany do nagazynu.\n",
            "Wprowadź 1, aby wyświetlić stan magazynu.\n",
            "Wprowadź 2, aby dodać produkt.\n",
            "Wprowadź 3, aby usunąć produkt.\n",
            "Wprowadź 4, aby zakończyć.\n",
            ">>> 1\n",
            "Dostępne produkty: \n",
            "mleko\n",
            "woda\n",
            "jajka\n",
            "mąka\n",
            "Wprowadź 1, aby wyświetlić stan magazynu.\n",
            "Wprowadź 2, aby dodać produkt.\n",
            "Wprowadź 3, aby usunąć produkt.\n",
            "Wprowadź 4, aby zakończyć.\n",
            ">>> 3\n",
            "Podaj nazwę produktu, który chcesz usunąć: >>> woda\n",
            "Usunięto woda z magazynu.\n",
            "Wprowadź 1, aby wyświetlić stan magazynu.\n",
            "Wprowadź 2, aby dodać produkt.\n",
            "Wprowadź 3, aby usunąć produkt.\n",
            "Wprowadź 4, aby zakończyć.\n",
            ">>> 1\n",
            "Dostępne produkty: \n",
            "mleko\n",
            "jajka\n",
            "mąka\n",
            "Wprowadź 1, aby wyświetlić stan magazynu.\n",
            "Wprowadź 2, aby dodać produkt.\n",
            "Wprowadź 3, aby usunąć produkt.\n",
            "Wprowadź 4, aby zakończyć.\n",
            ">>> 4\n",
            "Program zakończył prace.\n"
          ]
        },
        {
          "output_type": "error",
          "ename": "SystemExit",
          "evalue": "ignored",
          "traceback": [
            "An exception has occurred, use %tb to see the full traceback.\n",
            "\u001b[0;31mSystemExit\u001b[0m\n"
          ]
        },
        {
          "output_type": "stream",
          "name": "stderr",
          "text": [
            "/usr/local/lib/python3.10/dist-packages/IPython/core/interactiveshell.py:3561: UserWarning: To exit: use 'exit', 'quit', or Ctrl-D.\n",
            "  warn(\"To exit: use 'exit', 'quit', or Ctrl-D.\", stacklevel=1)\n"
          ]
        }
      ],
      "source": [
        "while True:\n",
        "    print('Wprowadź 1, aby wyświetlić stan magazynu.')\n",
        "    print('Wprowadź 2, aby dodać produkt.')\n",
        "    print('Wprowadź 3, aby usunąć produkt.')\n",
        "    print('Wprowadź 4, aby zakończyć.')\n",
        "    wybor_użytkownika = int(input('>>> '))\n",
        "    if wybor_użytkownika == 1:\n",
        "        magazyn.wyswietl_dostepne_produkty()\n",
        "    elif wybor_użytkownika == 2:\n",
        "        magazyn.dodaj_produkt()\n",
        "    elif wybor_użytkownika == 3:\n",
        "        magazyn.usun_produkt()\n",
        "    elif wybor_użytkownika == 4:\n",
        "        print('Program zakończył prace.')\n",
        "        sys.exit()"
      ]
    },
    {
      "cell_type": "code",
      "execution_count": null,
      "metadata": {
        "id": "dz4zUEIf34gp"
      },
      "outputs": [],
      "source": []
    }
  ],
  "metadata": {
    "colab": {
      "provenance": [],
      "authorship_tag": "ABX9TyNr4kCoG89JlRAcRhvJ8pYc",
      "include_colab_link": true
    },
    "kernelspec": {
      "display_name": "Python 3",
      "name": "python3"
    },
    "language_info": {
      "name": "python"
    }
  },
  "nbformat": 4,
  "nbformat_minor": 0
}