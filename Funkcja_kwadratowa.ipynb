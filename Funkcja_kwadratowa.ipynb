{
  "nbformat": 4,
  "nbformat_minor": 0,
  "metadata": {
    "colab": {
      "provenance": [],
      "authorship_tag": "ABX9TyMpiowabEb4ivto3tvEWxZL",
      "include_colab_link": true
    },
    "kernelspec": {
      "name": "python3",
      "display_name": "Python 3"
    },
    "language_info": {
      "name": "python"
    }
  },
  "cells": [
    {
      "cell_type": "markdown",
      "metadata": {
        "id": "view-in-github",
        "colab_type": "text"
      },
      "source": [
        "<a href=\"https://colab.research.google.com/github/M4rcoM04/Projects/blob/main/Funkcja_kwadratowa.ipynb\" target=\"_parent\"><img src=\"https://colab.research.google.com/assets/colab-badge.svg\" alt=\"Open In Colab\"/></a>"
      ]
    },
    {
      "cell_type": "code",
      "source": [
        "import numpy as np"
      ],
      "metadata": {
        "id": "U7U1eFBCJxES"
      },
      "execution_count": 1,
      "outputs": []
    },
    {
      "cell_type": "code",
      "execution_count": 2,
      "metadata": {
        "id": "eSBaUsI5Jul1"
      },
      "outputs": [],
      "source": [
        "class FunkcjaKwadratowa:\n",
        "\n",
        "    def __init__(self, a, b, c):\n",
        "        self.a = a\n",
        "        self.b = b\n",
        "        self.c = c\n",
        "\n",
        "    def make_function(self):\n",
        "        print(f'{self.a} * x ** 2 + {self.b} * x + {self.c}')\n",
        "\n",
        "    def rozwiaz(self):\n",
        "        if self.a == 0 and self.b == 0 and self.c == 0:\n",
        "            print('Równanie tożsamociowe.')\n",
        "        elif self.a == 0 and self.b == 0 and self.c != 0:\n",
        "            print('Równanie sprzeczne.')\n",
        "        elif self.a == 0 and self.b != 0:\n",
        "            x = - self.c / self.b\n",
        "            print(x)\n",
        "        elif self.a != 0:\n",
        "            delta = self.b ** 2 - 4 * self.a * self.c\n",
        "            if delta > 0:\n",
        "                sqrt_delta = np.sqrt(delta)\n",
        "                x1 = (-self.b - sqrt_delta) / (2 * self.a)\n",
        "                x2 = (-self.b + sqrt_delta) / (2 * self.a)\n",
        "                print(f'∆ równa {delta}\\n'\n",
        "                      f'√∆ równy {sqrt_delta}\\nx1: {x1}, x2: {x2}')\n",
        "            elif delta == 0:\n",
        "                x = - self.b / (2 * self.a)\n",
        "                print(f'∆ równa {delta}\\n'\n",
        "                    f'Delta równa 0.\\nx: {x}')\n",
        "            else:\n",
        "                print(f'∆ równa {delta}\\n'\n",
        "                    'Brak rozwiązań.')\n",
        "        else:\n",
        "            raise Error"
      ]
    },
    {
      "cell_type": "code",
      "source": [
        "fk = FunkcjaKwadratowa(211.4, -276.12, 89.74)"
      ],
      "metadata": {
        "id": "0cJW41QKJzTH"
      },
      "execution_count": 4,
      "outputs": []
    },
    {
      "cell_type": "code",
      "source": [
        "fk.rozwiaz()"
      ],
      "metadata": {
        "colab": {
          "base_uri": "https://localhost:8080/"
        },
        "id": "AoZP7rA0J7Rg",
        "outputId": "114efc79-9faa-48dd-962c-314709e4554d"
      },
      "execution_count": 5,
      "outputs": [
        {
          "output_type": "stream",
          "name": "stdout",
          "text": [
            "∆ równa 358.11040000000503\n",
            "√∆ równy 18.923805114194266\n",
            "x1: 0.6083164495879985, x2: 0.697833030071415\n"
          ]
        }
      ]
    },
    {
      "cell_type": "code",
      "source": [],
      "metadata": {
        "id": "gAZ5w9UiKAfd"
      },
      "execution_count": null,
      "outputs": []
    }
  ]
}